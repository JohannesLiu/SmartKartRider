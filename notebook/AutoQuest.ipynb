{
 "cells": [
  {
   "cell_type": "code",
   "execution_count": 9,
   "metadata": {
    "collapsed": true
   },
   "outputs": [],
   "source": [
    "import cv2\n",
    "import glob\n",
    "import numpy as np\n",
    "import numpy\n",
    "import os\n",
    "import matplotlib.pyplot as plt\n",
    "\n",
    "from win32gui import GetWindowText, GetForegroundWindow, GetWindowRect, FindWindow\n",
    "import pyscreenshot as ImageGrab\n",
    "import time\n",
    "import os\n",
    "from IPython.display import display, clear_output\n",
    "import datetime\n",
    "from KartriderKit.Utils.location import locateOnPicture, locateCenterOnPicture\n",
    "'''\n",
    "# if the foreground window is as the same as desired_window, then this script will capture your current screen and check current scenario.\n",
    "# which is faster than capture screenshot using Nox.\n",
    "'''\n",
    "WORKPATH = \"D:/GameProjects/Kartrider/SmartKartRider\"\n",
    "desired_window = \"BlueStacks App Player\"\n",
    "adb_port = 52883\n",
    "os.chdir(WORKPATH)"
   ]
  },
  {
   "cell_type": "code",
   "execution_count": 10,
   "outputs": [],
   "source": [
    "target_size = (1280,720)\n",
    "model_input_shape = (299,299)\n",
    "first_classes = ['dialog', 'loading', 'others', 'reward']\n",
    "second_classes = ['idle', 'inQuest']"
   ],
   "metadata": {
    "collapsed": false
   }
  },
  {
   "cell_type": "code",
   "execution_count": 11,
   "outputs": [
    {
     "name": "stdout",
     "output_type": "stream",
     "text": [
      "List of devices attached\n",
      "\n",
      "\n",
      "connected to 127.0.0.1:52883\n",
      "\n"
     ]
    }
   ],
   "source": [
    "# The Nox install path\n",
    "\n",
    "'''\n",
    "The simulator default port, if you using multiple simulator, you should change the port.\n",
    "You can check your port number use : os.popen('adb devices').read()\n",
    "'''\n",
    "print(os.popen('adb devices').read())\n",
    "connect = os.popen(\"adb connect 127.0.0.1:\" + str(adb_port)).read()\n",
    "print(connect)"
   ],
   "metadata": {
    "collapsed": false
   }
  },
  {
   "cell_type": "code",
   "execution_count": 25,
   "outputs": [],
   "source": [
    "def read_and_resize(path,target_size):\n",
    "    return cv2.resize(cv2.imread(path),target_size)/255\n",
    "\n",
    "def crop_img(inputImg, scenario,model_input_shape):\n",
    "    if scenario == 'reward':\n",
    "        return inputImg[:,335:940]\n",
    "    elif scenario == 'dialog':\n",
    "        return inputImg[460:,]\n",
    "    elif scenario == 'questArrow':\n",
    "        return inputImg[460:,]\n",
    "    elif scenario == 'autoIcon':\n",
    "        icon = inputImg[632:698,351:416]\n",
    "        icon = cv2.resize(icon,model_input_shape)\n",
    "        return icon"
   ],
   "metadata": {
    "collapsed": false
   }
  },
  {
   "cell_type": "code",
   "execution_count": 84,
   "outputs": [
    {
     "data": {
      "text/plain": "array([[[ 17,  12,   9],\n        [ 23,  16,  15],\n        [ 17,  16,   9],\n        ...,\n        [149,  54,  35],\n        [149,  53,  33],\n        [152,  54,  35]],\n\n       [[ 23,  19,  16],\n        [ 17,  16,  16],\n        [ 24,  19,  16],\n        ...,\n        [147,  53,  35],\n        [150,  55,  35],\n        [147,  53,  35]],\n\n       [[ 17,  16,   9],\n        [ 23,  19,  15],\n        [ 17,  13,   9],\n        ...,\n        [146,  53,  35],\n        [146,  52,  32],\n        [145,  53,  35]],\n\n       ...,\n\n       [[ 24,  16,  15],\n        [ 24,  13,   9],\n        [ 24,  19,  15],\n        ...,\n        [  9,   4,   8],\n        [ 15,  11,   8],\n        [  9,   8,   8]],\n\n       [[ 24,  12,   9],\n        [ 24,  16,  15],\n        [ 24,  12,   9],\n        ...,\n        [  8,   7,   7],\n        [  8,   4,   1],\n        [  8,   7,   7]],\n\n       [[ 24,  19,  15],\n        [ 24,  16,   9],\n        [ 24,  16,  15],\n        ...,\n        [  9,   8,   8],\n        [ 15,   8,   8],\n        [  9,   4,   8]]], dtype=uint8)"
     },
     "execution_count": 84,
     "metadata": {},
     "output_type": "execute_result"
    }
   ],
   "source": [
    "os.system('adb shell screencap -p /sdcard/screenshot.png')\n",
    "os.system('adb pull /sdcard/screenshot.png ./screenshot.png')\n",
    "im = cv2.imread('./screenshot.png')\n",
    "im"
   ],
   "metadata": {
    "collapsed": false
   }
  },
  {
   "cell_type": "code",
   "execution_count": 52,
   "outputs": [
    {
     "data": {
      "text/plain": "Point(x=1254, y=24)"
     },
     "execution_count": 52,
     "metadata": {},
     "output_type": "execute_result"
    }
   ],
   "source": [
    "im = cv2.imread('./screenshot.png')\n",
    "# im = cv2.imread('./raw_data/Screenshot_2022.10.22_11.22.30.011.png')\n",
    "subIm = cv2.imread(\"D:/GameProjects/Kartrider/SmartKartRider/raw_data/US/Button/Close-Window.PNG\")\n",
    "retVal = locateCenterOnPicture(subIm, im)\n",
    "retVal"
   ],
   "metadata": {
    "collapsed": false
   }
  },
  {
   "cell_type": "code",
   "execution_count": 49,
   "outputs": [
    {
     "data": {
      "text/plain": "'1254 24'"
     },
     "execution_count": 49,
     "metadata": {},
     "output_type": "execute_result"
    }
   ],
   "source": [
    "str(retVal[0]) + \" \" + str(retVal[1])"
   ],
   "metadata": {
    "collapsed": false
   }
  },
  {
   "cell_type": "code",
   "execution_count": 50,
   "outputs": [
    {
     "data": {
      "text/plain": "Box(left=1236, top=6, width=37, height=37)"
     },
     "execution_count": 50,
     "metadata": {},
     "output_type": "execute_result"
    }
   ],
   "source": [
    "locateOnPicture(subIm, im)"
   ],
   "metadata": {
    "collapsed": false
   }
  },
  {
   "cell_type": "code",
   "execution_count": 53,
   "outputs": [
    {
     "name": "stdout",
     "output_type": "stream",
     "text": [
      "Close Window\n"
     ]
    }
   ],
   "source": [
    "if locateOnPicture(subIm, im):\n",
    "    print(\"Close Window\")\n",
    "    retVal = locateCenterOnPicture(subIm, im)\n",
    "    os.system(\"adb shell input tap \" + str(retVal[0]) + \" \" + str(retVal[1]))\n",
    "    time.sleep(2)"
   ],
   "metadata": {
    "collapsed": false
   }
  },
  {
   "cell_type": "code",
   "execution_count": null,
   "outputs": [],
   "source": [
    "# run_count = 0\n",
    "# while True:\n",
    "#     clear_output(wait=True)\n",
    "#     run_count += 1\n",
    "#     print(f\"Current round count:{run_count}\")\n",
    "#     if run_count%500==0:\n",
    "#         #restart adb server and connection after a while\n",
    "#         os.system(\"adb shell kill-server\")\n",
    "#         os.system(\"adb shell start-server\")\n",
    "#         os.popen(\"adb connect 127.0.0.1:\" + str(adb_port))\n",
    "#     print(datetime.datetime.now())\n",
    "#     s = time.time()\n",
    "#     current_window = GetWindowText(GetForegroundWindow())\n",
    "#\n",
    "#     # If current_window is not as desired_window `夜神模擬器`, capture screen use adb tools\n",
    "#     if current_window != desired_window:\n",
    "#         try:\n",
    "#             print(\"ForegroundWindow not BlueStacks, adb screencap is using.\")\n",
    "#             os.system('adb shell screencap -p /sdcard/screenshot.png')\n",
    "#             os.system('adb pull /sdcard/screenshot.png ./screenshot.png')\n",
    "#             im = cv2.imread('./screenshot.png')\n",
    "#             os.system('adb shell rm /sdcard/screenshot.png')\n",
    "#             os.remove('./screenshot.png')\n",
    "#         except:\n",
    "#             print(\"Restart adb service\")\n",
    "#             os.system(\"adb shell kill-server\")\n",
    "#             os.system(\"adb shell start-server\")\n",
    "#             os.popen(\"adb connect 127.0.0.1:\" + str(adb_port))\n",
    "#             continue\n",
    "#     else:\n",
    "#         rect = GetWindowRect(FindWindow(None, desired_window))\n",
    "#         im = ImageGrab.grab(bbox=(rect[0],rect[1]+35,rect[2],rect[3]))\n",
    "#         im = np.array(im)\n",
    "#     if locateOnPicture('accept_button.png'):\n",
    "#         pyautogui.click(pyautogui.locateCenterOnScreen('accept_button.png'))\n",
    "#\n",
    "#     elif locateOnPicture('confirm_button.png'):\n",
    "#         pyautogui.click(pyautogui.locateCenterOnScreen('confirm_button.png'))\n",
    "#\n",
    "#     elif locateOnPicture('complete_button.png'):\n",
    "#         click(pyautogui.locateCenterOnScreen('complete_button.png'))\n",
    "#\n",
    "#     elif locateOnScreen('claim_reward.png'):\n",
    "#         pyautogui.click(pyautogui.locateCenterOnScreen('claim_reward.png'))\n",
    "#\n",
    "# ###################################################################################################\n",
    "#     # \"SKIP\" AND \"START-QUEST\" buttons are below\n",
    "#     # click \"Start Quest\" button\n",
    "#     elif pyautogui.pixelMatchesColor(579, 892, (210, 195, 140)):\n",
    "#         pyautogui.click(284, 402)\n",
    "#         time.sleep(1)\n",
    "#\n",
    "#     # click \"Skip\" Button\n",
    "#     elif pyautogui.pixelMatchesColor(308, 128, (246, 240, 239)):\n",
    "#         pyautogui.click(308, 128)\n",
    "#         time.sleep(0.5)\n",
    "#\n",
    "#     else:\n",
    "#         time.sleep(5)\n"
   ],
   "metadata": {
    "collapsed": false
   }
  },
  {
   "cell_type": "markdown",
   "source": [
    "# Test"
   ],
   "metadata": {
    "collapsed": false
   }
  },
  {
   "cell_type": "markdown",
   "source": [
    "## begin game"
   ],
   "metadata": {
    "collapsed": false
   }
  },
  {
   "cell_type": "code",
   "execution_count": 13,
   "outputs": [
    {
     "name": "stdout",
     "output_type": "stream",
     "text": [
      "Begin Game\n",
      "Begin Game\n",
      "Begin Game\n",
      "Begin Game\n",
      "Begin Game\n",
      "Begin Game\n",
      "Begin Game\n"
     ]
    },
    {
     "name": "stderr",
     "output_type": "stream",
     "text": [
      "\n",
      "KeyboardInterrupt\n",
      "\n"
     ]
    }
   ],
   "source": [
    "# im = cv2.imread('./raw_data/US/TestPictures/StartGame-Scenario.png')\n",
    "im = cv2.imread('./raw_data/US/TestPictures/StartGame-Scenario.png')\n",
    "subIm = cv2.imread(\"./raw_data/US/Button/StartGame-Scenario-Start.png\")\n",
    "\n",
    "if locateOnPicture(subIm, im):\n",
    "    print(\"Begin Game\")\n",
    "    retVal = locateCenterOnPicture(subIm, im)\n",
    "    os.system(\"adb shell input tap \" + str(retVal[0]) + \" \" + str(retVal[1]))\n",
    "    # os.system(\"adb shell input tap 635 635\")\n",
    "    time.sleep(1)"
   ],
   "metadata": {
    "collapsed": false
   }
  },
  {
   "cell_type": "markdown",
   "source": [
    "## Close Main window"
   ],
   "metadata": {
    "collapsed": false
   }
  },
  {
   "cell_type": "code",
   "execution_count": 11,
   "outputs": [
    {
     "name": "stdout",
     "output_type": "stream",
     "text": [
      "Close Window\n"
     ]
    }
   ],
   "source": [
    "im = cv2.imread('./raw_data/US/TestPictures/MainWindows-1.png')\n",
    "subIm = cv2.imread(\"./raw_data/US/Button/Close-Window.PNG\")\n",
    "\n",
    "if locateOnPicture(subIm, im):\n",
    "    print(\"Close Window\")\n",
    "    retVal = locateCenterOnPicture(subIm, im)\n",
    "    os.system(\"adb shell input tap \" + str(retVal[0]) + \" \" + str(retVal[1]))\n",
    "    time.sleep(2)"
   ],
   "metadata": {
    "collapsed": false
   }
  },
  {
   "cell_type": "markdown",
   "source": [
    "## Close Sub Window"
   ],
   "metadata": {
    "collapsed": false
   }
  },
  {
   "cell_type": "code",
   "execution_count": 12,
   "outputs": [
    {
     "name": "stdout",
     "output_type": "stream",
     "text": [
      "Close Window\n"
     ]
    }
   ],
   "source": [
    "im = cv2.imread('./raw_data/US/TestPictures/SubWindows-1.png')\n",
    "subIm = cv2.imread(\"./raw_data/US/Button/Close-Event-Center.png\")\n",
    "\n",
    "if locateOnPicture(subIm, im):\n",
    "    print(\"Close Window\")\n",
    "    retVal = locateCenterOnPicture(subIm, im)\n",
    "    os.system(\"adb shell input tap \" + str(retVal[0]) + \" \" + str(retVal[1]))\n",
    "    time.sleep(2)"
   ],
   "metadata": {
    "collapsed": false
   }
  },
  {
   "cell_type": "markdown",
   "source": [
    "## Start Race"
   ],
   "metadata": {
    "collapsed": false
   }
  },
  {
   "cell_type": "code",
   "execution_count": 13,
   "outputs": [
    {
     "name": "stdout",
     "output_type": "stream",
     "text": [
      "Close Window\n"
     ]
    }
   ],
   "source": [
    "im = cv2.imread('./raw_data/US/TestPictures/Main-Scenario.png')\n",
    "subIm = cv2.imread(\"./raw_data/US/Button/Main-Scenario-StartGame.png\")\n",
    "\n",
    "if locateOnPicture(subIm, im):\n",
    "    print(\"Close Window\")\n",
    "    retVal = locateCenterOnPicture(subIm, im)\n",
    "    os.system(\"adb shell input tap \" + str(retVal[0]) + \" \" + str(retVal[1]))\n",
    "    time.sleep(2)"
   ],
   "metadata": {
    "collapsed": false
   }
  },
  {
   "cell_type": "markdown",
   "source": [
    "## Select Time Trial"
   ],
   "metadata": {
    "collapsed": false
   }
  },
  {
   "cell_type": "code",
   "execution_count": 18,
   "outputs": [
    {
     "name": "stdout",
     "output_type": "stream",
     "text": [
      "Close Window\n"
     ]
    }
   ],
   "source": [
    "im = cv2.imread('./raw_data/US/TestPictures/GameSelection-Scenario.png')\n",
    "subIm = cv2.imread(\"./raw_data/US/Button/GameSelection-Scenario-TimeTrial.png\")\n",
    "\n",
    "if locateOnPicture(subIm, im):\n",
    "    print(\"Close Window\")\n",
    "    retVal = locateCenterOnPicture(subIm, im)\n",
    "    os.system(\"adb shell input tap \" + str(retVal[0]) + \" \" + str(retVal[1]))\n",
    "    time.sleep(2)"
   ],
   "metadata": {
    "collapsed": false
   }
  },
  {
   "cell_type": "markdown",
   "source": [
    "## Begin A time Trial"
   ],
   "metadata": {
    "collapsed": false
   }
  },
  {
   "cell_type": "code",
   "execution_count": 24,
   "outputs": [
    {
     "name": "stdout",
     "output_type": "stream",
     "text": [
      "Close Window\n"
     ]
    }
   ],
   "source": [
    "im = cv2.imread('./raw_data/US/TestPictures/TimeTrial-Scenario.png')\n",
    "subIm = cv2.imread(\"./raw_data/US/Button/TimeTrial-Scenario-Start.png\")\n",
    "\n",
    "if locateOnPicture(subIm, im, confidence = 0.5):\n",
    "    print(\"Close Window\")\n",
    "    retVal = locateCenterOnPicture(subIm, im, confidence = 0.5)\n",
    "    os.system(\"adb shell input tap \" + str(retVal[0]) + \" \" + str(retVal[1]))\n",
    "    time.sleep(2)"
   ],
   "metadata": {
    "collapsed": false
   }
  },
  {
   "cell_type": "markdown",
   "source": [
    "## Back To TimeTrial Scenario"
   ],
   "metadata": {
    "collapsed": false
   }
  },
  {
   "cell_type": "code",
   "execution_count": null,
   "outputs": [],
   "source": [
    "# im = cv2.imread('./raw_data/US/TestPictures/TimeTrial-Scenario.png')\n",
    "# subIm = cv2.imread(\"./raw_data/US/Button/TimeTrial-Scenario-Start.png\")\n",
    "#\n",
    "# if locateOnPicture(subIm, im, confidence = 0.5):\n",
    "#     print(\"Close Window\")\n",
    "#     retVal = locateCenterOnPicture(subIm, im, confidence = 0.5)\n",
    "#     os.system(\"adb shell input tap \" + str(retVal[0]) + \" \" + str(retVal[1]))\n",
    "#     time.sleep(2)"
   ],
   "metadata": {
    "collapsed": false
   }
  }
 ],
 "metadata": {
  "kernelspec": {
   "display_name": "Python 3",
   "language": "python",
   "name": "python3"
  },
  "language_info": {
   "codemirror_mode": {
    "name": "ipython",
    "version": 2
   },
   "file_extension": ".py",
   "mimetype": "text/x-python",
   "name": "python",
   "nbconvert_exporter": "python",
   "pygments_lexer": "ipython2",
   "version": "2.7.6"
  }
 },
 "nbformat": 4,
 "nbformat_minor": 0
}
