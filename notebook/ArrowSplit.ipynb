{
 "cells": [
  {
   "cell_type": "code",
   "execution_count": 20,
   "metadata": {
    "collapsed": true
   },
   "outputs": [],
   "source": [
    "import cv2\n",
    "import numpy as np\n",
    "from matplotlib import pyplot as plt\n",
    "import argparse\n",
    "import imutils\n",
    "import math\n",
    "\n",
    "WORKPATH = \"D:/GameProjects/Kartrider/SmartKartRider\"\n",
    "RAW_DATA_PATH = WORKPATH + \"/raw_data/US\""
   ]
  },
  {
   "cell_type": "code",
   "execution_count": 21,
   "outputs": [],
   "source": [
    "class ShapeDetector:\n",
    "    def __init__(self):\n",
    "        pass\n",
    "\n",
    "    def detect(self, c):\n",
    "        # 初始化形状名称并近似轮廓\n",
    "        shape = \"unidentified\"\n",
    "        peri = cv2.arcLength(c, True)\n",
    "        print(\"peri: \", peri)\n",
    "        approx = cv2.approxPolyDP(c, 0.10* peri, True)\n",
    "        # approx = cv2.approxPolyDP(c, 0.04 * peri, True)\n",
    "        # 如果形状是一个三角形，它将有3个顶点\n",
    "        if len(approx) == 3:\n",
    "            shape = \"triangle\"\n",
    "        # 如果形状有4个顶点，它要么是正方形，要么是矩形\n",
    "        elif len(approx) == 4:\n",
    "            # 计算轮廓的包围框，并使用包围框计算高宽比\n",
    "            (x, y, w, h) = cv2.boundingRect(approx)\n",
    "            ar = w / float(h)\n",
    "            # 正方形的长宽比大约等于1，否则，形状就是矩形\n",
    "            shape = \"square\" if ar >= 0.95 and ar <= 1.05 else \"rectangle\"\n",
    "        # 如果形状是一个五边形，它将有5个顶点\n",
    "        elif len(approx) == 5:\n",
    "            shape = \"pentagon\"\n",
    "        # 否则，我们假设形状是一个圆\n",
    "        else:\n",
    "            shape = \"circle\"\n",
    "        # 返回形状的名称\n",
    "        return shape, approx"
   ],
   "metadata": {
    "collapsed": false
   }
  },
  {
   "cell_type": "code",
   "execution_count": 15,
   "outputs": [],
   "source": [
    "def angle_of_vector(v1, v2):\n",
    "    pi = math.pi\n",
    "    vector_prod = v1[0] * v2[0] + v1[1] * v2[1]\n",
    "    length_prod = math.sqrt(pow(v1[0], 2) + pow(v1[1], 2)) * math.sqrt(pow(v2[0], 2) + pow(v2[1], 2))\n",
    "    cos = vector_prod * 1.0 / (length_prod * 1.0 + 1e-6)\n",
    "    return (math.acos(cos) / pi) * 180"
   ],
   "metadata": {
    "collapsed": false
   }
  },
  {
   "cell_type": "code",
   "execution_count": 29,
   "outputs": [],
   "source": [
    "target_size = (100, 100)\n",
    "img = cv2.resize(cv2.imread(RAW_DATA_PATH + '/SmallMap/6.png')[80:110, 85:115], target_size)"
   ],
   "metadata": {
    "collapsed": false
   }
  },
  {
   "cell_type": "code",
   "execution_count": 30,
   "outputs": [],
   "source": [
    "hsv = cv2.cvtColor(img, cv2.COLOR_BGR2HSV)\n",
    "lower = np.array([80, 50, 100]) #BGR\n",
    "upper = np.array([120, 255,255])\n",
    "mask = cv2.inRange(hsv, lower, upper)\n",
    "res = cv2.bitwise_and(img, img, mask=mask)\n",
    "canny = cv2.Canny(mask,50,50)"
   ],
   "metadata": {
    "collapsed": false
   }
  },
  {
   "cell_type": "code",
   "execution_count": 31,
   "outputs": [
    {
     "name": "stdout",
     "output_type": "stream",
     "text": [
      "peri:  261.03657710552216\n",
      "[[ 6 73]\n",
      " [94 82]\n",
      " [55 19]]\n",
      "triangle [[ 6 73]\n",
      " [94 82]\n",
      " [55 19]]\n",
      "peri:  44.82842707633972\n",
      "[[ 0  0]\n",
      " [21  1]]\n",
      "circle [[ 0  0]\n",
      " [21  1]]\n"
     ]
    },
    {
     "data": {
      "text/plain": "array([-10.5,  -0.5])"
     },
     "execution_count": 31,
     "metadata": {},
     "output_type": "execute_result"
    },
    {
     "data": {
      "text/plain": "<Figure size 640x480 with 1 Axes>",
      "image/png": "[encoded data removed]"
     },
     "metadata": {},
     "output_type": "display_data"
    }
   ],
   "source": [
    "cnts = cv2.findContours(mask.copy(), cv2.RETR_EXTERNAL,\n",
    "                        cv2.CHAIN_APPROX_SIMPLE)\n",
    "cnts = imutils.grab_contours(cnts)\n",
    "sd = ShapeDetector()\n",
    "final_img = img.copy()\n",
    "for c in cnts:\n",
    "    # 计算轮廓的中心，然后仅使用轮廓检测形状的名称\n",
    "    M = cv2.moments(c)\n",
    "    cX = int((M[\"m10\"] / M[\"m00\"]) )\n",
    "    cY = int((M[\"m01\"] / M[\"m00\"]) )\n",
    "    shape, train_points = sd.detect(c)\n",
    "    train_points = train_points.reshape(len(train_points), -1)\n",
    "    # 将轮廓(x, y)坐标乘以调整比例，然后在图像上绘制轮廓和形状的名称\n",
    "    print(train_points)\n",
    "    cv2.drawContours(final_img, [c], -1, (0, 255, 0), 1)\n",
    "    # cv2.putText(final_img, \"0\", (train_points[0, 0]-3, train_points[0, 1]), cv2.FONT_HERSHEY_SIMPLEX,\n",
    "    #             0.2, (255, 255, 255), 1)\n",
    "    #\n",
    "    # cv2.putText(final_img, \"1\", (train_points[1, 0]-3, train_points[1, 1]), cv2.FONT_HERSHEY_SIMPLEX,\n",
    "    #         0.2, (255, 255, 255), 1)\n",
    "    #\n",
    "    # cv2.putText(final_img, \"2\", (train_points[2, 0]-3, train_points[2, 1]), cv2.FONT_HERSHEY_SIMPLEX,\n",
    "    #         0.2, (255, 255, 255), 1)\n",
    "    print(shape, train_points)\n",
    "    plt.imshow(cv2.cvtColor(final_img, cv2.COLOR_BGR2RGB))\n",
    "k_left_vet_index, k_up_vet_index = np.argmin(train_points.reshape(len(train_points), -1), axis = 0)\n",
    "k_right_vet_index  = np.argmax(train_points.reshape(len(train_points), -1), axis = 0)[0]\n",
    "k_left_vet = train_points[k_left_vet_index]\n",
    "k_right_vet = train_points[k_right_vet_index]\n",
    "k_up_vet = train_points[k_up_vet_index]\n",
    "k_mid_down_vet = (k_right_vet + k_left_vet)/2\n",
    "k_dir_vet = k_up_vet - k_mid_down_vet\n",
    "up_norm = np.array([0, -1])\n",
    "k_dir_vet"
   ],
   "metadata": {
    "collapsed": false
   }
  },
  {
   "cell_type": "code",
   "execution_count": 32,
   "outputs": [
    {
     "data": {
      "text/plain": "87.2736892656444"
     },
     "execution_count": 32,
     "metadata": {},
     "output_type": "execute_result"
    }
   ],
   "source": [
    "angle_of_vector(k_dir_vet, up_norm)"
   ],
   "metadata": {
    "collapsed": false
   }
  },
  {
   "cell_type": "code",
   "execution_count": 33,
   "outputs": [
    {
     "data": {
      "text/plain": "array([[ 0,  0],\n       [21,  1]], dtype=int32)"
     },
     "execution_count": 33,
     "metadata": {},
     "output_type": "execute_result"
    }
   ],
   "source": [
    "train_points"
   ],
   "metadata": {
    "collapsed": false
   }
  },
  {
   "cell_type": "code",
   "execution_count": null,
   "outputs": [],
   "source": [],
   "metadata": {
    "collapsed": false
   }
  }
 ],
 "metadata": {
  "kernelspec": {
   "display_name": "Python 3",
   "language": "python",
   "name": "python3"
  },
  "language_info": {
   "codemirror_mode": {
    "name": "ipython",
    "version": 2
   },
   "file_extension": ".py",
   "mimetype": "text/x-python",
   "name": "python",
   "nbconvert_exporter": "python",
   "pygments_lexer": "ipython2",
   "version": "2.7.6"
  }
 },
 "nbformat": 4,
 "nbformat_minor": 0
}
