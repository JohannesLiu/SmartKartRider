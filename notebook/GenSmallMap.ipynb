{
 "cells": [
  {
   "cell_type": "code",
   "execution_count": 9,
   "metadata": {
    "collapsed": true
   },
   "outputs": [],
   "source": [
    "import cv2\n",
    "import glob\n",
    "import numpy as np\n",
    "import numpy\n",
    "import os\n",
    "import matplotlib.pyplot as plt\n",
    "\n",
    "from win32gui import GetWindowText, GetForegroundWindow, GetWindowRect, FindWindow\n",
    "import pyscreenshot as ImageGrab\n",
    "import time\n",
    "import os\n",
    "from IPython.display import display, clear_output\n",
    "import datetime\n",
    "from KartriderKit.Utils.location import locateOnPicture, locateCenterOnPicture\n",
    "'''\n",
    "# if the foreground window is as the same as desired_window, then this script will capture your current screen and check current scenario.\n",
    "# which is faster than capture screenshot using Nox.\n",
    "'''\n",
    "WORKPATH = \"D:/GameProjects/Kartrider/SmartKartRider\"\n",
    "desired_window = \"BlueStacks App Player\"\n",
    "adb_port = 60034\n",
    "os.chdir(WORKPATH)"
   ]
  },
  {
   "cell_type": "code",
   "execution_count": 11,
   "outputs": [
    {
     "data": {
      "text/plain": "24"
     },
     "execution_count": 11,
     "metadata": {},
     "output_type": "execute_result"
    }
   ],
   "source": [
    "img_path_list = glob.glob('./raw_data/US/Scenarios/InGame/*.*',recursive=True)\n",
    "\n",
    "X_img = []\n",
    "for i in range(len(img_path_list)):\n",
    "    img = cv2.imread(img_path_list[i])\n",
    "    smallMap = cv2.imwrite(\"./raw_data/US/SmallMap/\" + str(i) + \".png\", img[55:228, 1066:1264])\n",
    "    X_img.append(img)\n",
    "len(X_img)"
   ],
   "metadata": {
    "collapsed": false
   }
  },
  {
   "cell_type": "code",
   "execution_count": 30,
   "outputs": [],
   "source": [
    "smallMap_path_list = glob.glob('./raw_data/US/Scenarios/SmallMap/*.*',recursive=True)\n",
    "smallMap = cv2.imread(\"./raw_data/US/SmallMap/\" + str(1) + \".png\",1)\n",
    "cv2.imshow(\"test\", smallMap)\n",
    "cv2.waitKey(0)\n",
    "cv2.destroyAllWindows()"
   ],
   "metadata": {
    "collapsed": false
   }
  },
  {
   "cell_type": "code",
   "execution_count": 31,
   "outputs": [],
   "source": [
    "hsv_img = cv2.cvtColor(smallMap, cv2.COLOR_BGR2HSV)\n",
    "\n",
    "# 定义范围 网球颜色范围\n",
    "lower_color = (216, 227,67)\n",
    "upper_color = (253, 253, 111)\n",
    "\n",
    "# 查找颜色\n",
    "mask_img = cv2.inRange(hsv_img, lower_color, upper_color)\n",
    "# 在颜色范围内的内容是白色, 其它为黑色\n",
    "cv2.imshow(\"mask_img\",mask_img)\n",
    "\n",
    "cv2.waitKey(0)\n",
    "cv2.destroyAllWindows()"
   ],
   "metadata": {
    "collapsed": false
   }
  }
 ],
 "metadata": {
  "kernelspec": {
   "display_name": "Python 3",
   "language": "python",
   "name": "python3"
  },
  "language_info": {
   "codemirror_mode": {
    "name": "ipython",
    "version": 2
   },
   "file_extension": ".py",
   "mimetype": "text/x-python",
   "name": "python",
   "nbconvert_exporter": "python",
   "pygments_lexer": "ipython2",
   "version": "2.7.6"
  }
 },
 "nbformat": 4,
 "nbformat_minor": 0
}
